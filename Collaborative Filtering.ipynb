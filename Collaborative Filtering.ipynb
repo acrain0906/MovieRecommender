{
 "cells": [
  {
   "cell_type": "markdown",
   "id": "473a4f75-13d4-4ef0-b793-3cb94e10d0bd",
   "metadata": {},
   "source": [
    "# Movie Recommender System"
   ]
  },
  {
   "cell_type": "code",
   "execution_count": 1,
   "id": "83720cc4-2a29-41fa-853d-efeb32278a61",
   "metadata": {},
   "outputs": [],
   "source": [
    "\n",
    "import pandas as pd \n",
    "    \n",
    "def simple_dataset():\n",
    "    movies = pd.read_csv('./simple-dataset/movies.csv', index_col=0 )\n",
    "    ratings = pd.read_csv('./simple-dataset/ratings.csv')\n",
    "    return movies, ratings"
   ]
  },
  {
   "cell_type": "code",
   "execution_count": 2,
   "id": "3af9e73b-4c2e-48c0-a04e-52ad278f1527",
   "metadata": {},
   "outputs": [
    {
     "name": "stdout",
     "output_type": "stream",
     "text": [
      "(62423, 2)\n",
      "(25000095, 4)\n"
     ]
    }
   ],
   "source": [
    "movies_extra, ratings = simple_dataset()\n",
    "print(movies_extra.shape)\n",
    "print(ratings.shape) "
   ]
  },
  {
   "cell_type": "code",
   "execution_count": 3,
   "id": "c4b88bad-89c3-4a6d-9814-d24d3baa6e6a",
   "metadata": {},
   "outputs": [
    {
     "data": {
      "text/html": [
       "<div>\n",
       "<style scoped>\n",
       "    .dataframe tbody tr th:only-of-type {\n",
       "        vertical-align: middle;\n",
       "    }\n",
       "\n",
       "    .dataframe tbody tr th {\n",
       "        vertical-align: top;\n",
       "    }\n",
       "\n",
       "    .dataframe thead th {\n",
       "        text-align: right;\n",
       "    }\n",
       "</style>\n",
       "<table border=\"1\" class=\"dataframe\">\n",
       "  <thead>\n",
       "    <tr style=\"text-align: right;\">\n",
       "      <th></th>\n",
       "      <th>title</th>\n",
       "      <th>genres</th>\n",
       "    </tr>\n",
       "    <tr>\n",
       "      <th>movieId</th>\n",
       "      <th></th>\n",
       "      <th></th>\n",
       "    </tr>\n",
       "  </thead>\n",
       "  <tbody>\n",
       "    <tr>\n",
       "      <th>1</th>\n",
       "      <td>Toy Story (1995)</td>\n",
       "      <td>Adventure|Animation|Children|Comedy|Fantasy</td>\n",
       "    </tr>\n",
       "    <tr>\n",
       "      <th>2</th>\n",
       "      <td>Jumanji (1995)</td>\n",
       "      <td>Adventure|Children|Fantasy</td>\n",
       "    </tr>\n",
       "    <tr>\n",
       "      <th>3</th>\n",
       "      <td>Grumpier Old Men (1995)</td>\n",
       "      <td>Comedy|Romance</td>\n",
       "    </tr>\n",
       "    <tr>\n",
       "      <th>4</th>\n",
       "      <td>Waiting to Exhale (1995)</td>\n",
       "      <td>Comedy|Drama|Romance</td>\n",
       "    </tr>\n",
       "    <tr>\n",
       "      <th>5</th>\n",
       "      <td>Father of the Bride Part II (1995)</td>\n",
       "      <td>Comedy</td>\n",
       "    </tr>\n",
       "  </tbody>\n",
       "</table>\n",
       "</div>"
      ],
      "text/plain": [
       "                                      title  \\\n",
       "movieId                                       \n",
       "1                          Toy Story (1995)   \n",
       "2                            Jumanji (1995)   \n",
       "3                   Grumpier Old Men (1995)   \n",
       "4                  Waiting to Exhale (1995)   \n",
       "5        Father of the Bride Part II (1995)   \n",
       "\n",
       "                                              genres  \n",
       "movieId                                               \n",
       "1        Adventure|Animation|Children|Comedy|Fantasy  \n",
       "2                         Adventure|Children|Fantasy  \n",
       "3                                     Comedy|Romance  \n",
       "4                               Comedy|Drama|Romance  \n",
       "5                                             Comedy  "
      ]
     },
     "execution_count": 3,
     "metadata": {},
     "output_type": "execute_result"
    }
   ],
   "source": [
    "movies_extra.head()"
   ]
  },
  {
   "cell_type": "code",
   "execution_count": 4,
   "id": "bf54f9af-3379-4218-9b97-1605b287c03a",
   "metadata": {},
   "outputs": [
    {
     "data": {
      "text/plain": [
       "Index(['userId', 'movieId', 'rating', 'timestamp'], dtype='object')"
      ]
     },
     "execution_count": 4,
     "metadata": {},
     "output_type": "execute_result"
    }
   ],
   "source": [
    "ratings.columns"
   ]
  },
  {
   "cell_type": "code",
   "execution_count": 5,
   "id": "094eeed3-a228-47f8-9bb0-c07d7b080b12",
   "metadata": {},
   "outputs": [
    {
     "name": "stdout",
     "output_type": "stream",
     "text": [
      "209171\n"
     ]
    }
   ],
   "source": [
    "users = list(set(ratings['userId'].values))\n",
    "numUsers = len(users)\n",
    "moviesnames = list(set(ratings['movieId'].values))\n",
    "numMovies = len(moviesnames)\n",
    "print(max(moviesnames))"
   ]
  },
  {
   "cell_type": "code",
   "execution_count": 19,
   "id": "4a80cf5f-b3c1-4e1e-b025-04b2e2b4db5b",
   "metadata": {},
   "outputs": [
    {
     "data": {
      "text/plain": [
       "{np.float64(0.5),\n",
       " np.float64(1.0),\n",
       " np.float64(1.5),\n",
       " np.float64(2.0),\n",
       " np.float64(2.5),\n",
       " np.float64(3.0),\n",
       " np.float64(3.5),\n",
       " np.float64(4.0),\n",
       " np.float64(4.5),\n",
       " np.float64(5.0)}"
      ]
     },
     "execution_count": 19,
     "metadata": {},
     "output_type": "execute_result"
    }
   ],
   "source": [
    "set(ratings['rating'].values)"
   ]
  },
  {
   "cell_type": "code",
   "execution_count": 30,
   "id": "36421162-9980-4625-92af-7aab47d7ebfc",
   "metadata": {},
   "outputs": [
    {
     "data": {
      "text/plain": [
       "np.int64(1)"
      ]
     },
     "execution_count": 30,
     "metadata": {},
     "output_type": "execute_result"
    }
   ],
   "source": [
    "min(users)"
   ]
  },
  {
   "cell_type": "code",
   "execution_count": 6,
   "id": "c18e90a0-b5e7-4020-a064-f4cbf8598eef",
   "metadata": {},
   "outputs": [
    {
     "data": {
      "text/plain": [
       "59047"
      ]
     },
     "execution_count": 6,
     "metadata": {},
     "output_type": "execute_result"
    }
   ],
   "source": [
    "numMovies"
   ]
  },
  {
   "cell_type": "code",
   "execution_count": 7,
   "id": "8f5f931c-3d6b-4795-b67e-b2a0a77cac5f",
   "metadata": {},
   "outputs": [
    {
     "data": {
      "text/plain": [
       "162541"
      ]
     },
     "execution_count": 7,
     "metadata": {},
     "output_type": "execute_result"
    }
   ],
   "source": [
    "numUsers"
   ]
  },
  {
   "cell_type": "code",
   "execution_count": 6,
   "id": "772b47eb-bc4c-4cbb-95d2-c1ac89396702",
   "metadata": {},
   "outputs": [],
   "source": [
    "def cosineSimilarity (A:list[int], B:list[int]) -> float:\n",
    "    assert len(A) == len(B), \"The list lengths are not equal\"\n",
    "    length = len(A)\n",
    "    similarity = sum([A[idx] * B[idx] for idx in range(length)])\n",
    "    normalization_A = sum([A[idx]**2 for idx in range(length)])**0.5\n",
    "    normalization_B = sum([B[idx]**2 for idx in range(length)])**0.5\n",
    "    return similarity / normalization_A / normalization_B"
   ]
  },
  {
   "cell_type": "code",
   "execution_count": 7,
   "id": "d9c9a166-973b-49ad-9b04-dee66ccf782a",
   "metadata": {},
   "outputs": [],
   "source": [
    "import numpy as np\n",
    "def cosSimNP (A: np.array, B: np.array) -> np.float64:\n",
    "    assert A.shape[0] == B.shape[0], \"The list lengths are not equal\"\n",
    "    norm_a = np.linalg.norm(A)\n",
    "    norm_b = np.linalg.norm(B)\n",
    "    return np.dot(A,B) / (norm_a*norm_b)"
   ]
  },
  {
   "cell_type": "code",
   "execution_count": 10,
   "id": "0a7ed16b-824b-4001-9dc5-22ea51008fac",
   "metadata": {},
   "outputs": [
    {
     "data": {
      "text/plain": [
       "0.9486832980505137"
      ]
     },
     "execution_count": 10,
     "metadata": {},
     "output_type": "execute_result"
    }
   ],
   "source": [
    "cosineSimilarity([1, 1], [2, 1])"
   ]
  },
  {
   "cell_type": "code",
   "execution_count": 26,
   "id": "fcdb2180-029a-4471-956e-9d2acb1c94f9",
   "metadata": {},
   "outputs": [
    {
     "data": {
      "text/plain": [
       "numpy.float64"
      ]
     },
     "execution_count": 26,
     "metadata": {},
     "output_type": "execute_result"
    }
   ],
   "source": [
    "a = np.array([1, 1])\n",
    "b = np.array([2, 2])\n",
    "type(cosSimNP(a, b))"
   ]
  },
  {
   "cell_type": "code",
   "execution_count": 15,
   "id": "ee39c105-867a-47ed-b1ad-83b5d967e0ae",
   "metadata": {},
   "outputs": [],
   "source": [
    "# Method 1\n",
    "movieIds = {element: index for index, element in enumerate(moviesnames)}\n",
    "movieNames = {index : element for index, element in enumerate(moviesnames)}\n",
    "\n",
    "# method 2\n",
    "# key_value_pairs = zip(keys, values)\n",
    "# my_dict = dict(key_value_pairs)"
   ]
  },
  {
   "cell_type": "code",
   "execution_count": 9,
   "id": "ce10e7cd-8348-484f-90b8-458a4b110165",
   "metadata": {},
   "outputs": [
    {
     "name": "stdout",
     "output_type": "stream",
     "text": [
      "36.64936137199402\n"
     ]
    }
   ],
   "source": [
    "import time \n",
    "start = time.time()\n",
    "# create the User-Movie ratings matrix\n",
    "ratingsMatrx = np.zeros((numUsers, numMovies), dtype=np.int8)\n",
    "for row in ratings.itertuples():\n",
    "    movieId = movieIds[row.movieId]\n",
    "    userId = int(row.userId) - 1\n",
    "    ratingsMatrx[userId, movieId] = int(2 * row.rating)\n",
    "mid = time.time()\n",
    "print(mid - start)\n",
    "\n"
   ]
  },
  {
   "cell_type": "code",
   "execution_count": 10,
   "id": "1637658e-77ff-4934-a57f-3241c2dbb7bb",
   "metadata": {},
   "outputs": [
    {
     "name": "stdout",
     "output_type": "stream",
     "text": [
      "Working on User: 0\n",
      "Done!\n"
     ]
    }
   ],
   "source": [
    "from scipy.sparse import csr_matrix\n",
    "\n",
    "# Create User Similarity Matrix Matrix\n",
    "similarityMatrix = csr_matrix((numUsers, numUsers), dtype = np.int8).toarray()\n",
    "accuracy = 100\n",
    "for user1 in range(numUsers):\n",
    "    if user1 % 10000 == 0: print(f'Working on User: {user1}')\n",
    "    for user2 in range(user1, numUsers):\n",
    "        if user1 == user2:\n",
    "            similarityMatrix[user1, user2] = 0\n",
    "            continue;\n",
    "        user1_opinion = ratingsMatrx[user1, :]\n",
    "        user2_opinion = ratingsMatrx[user2, :]\n",
    "        similarity = int(accuracy * cosSimNP(user1_opinion, user2_opinion) )\n",
    "        similarityMatrix[user1, user2] = similarity\n",
    "        similarityMatrix[user2, user1] = similarity\n",
    "    break;\n",
    "print('Done!')"
   ]
  },
  {
   "cell_type": "code",
   "execution_count": 27,
   "id": "ebc84964-5643-481a-9314-3cbc0c1d0408",
   "metadata": {},
   "outputs": [],
   "source": [
    "testuser = 53\n",
    "n = 5\n",
    "most_similar = np.argmax(similarityMatrix)\n",
    "ind = np.argpartition(similarityMatrix[testuser, :], -n)[-n:].tolist()\n",
    "movieID = 0\n",
    "testUserList = []\n",
    "similarUserList = []\n",
    "for movieID in range(numMovies):\n",
    "    for userID in ind:\n",
    "        if ratingsMatrx[testuser, movieID] == 0 and ratingsMatrx[userID, movieID] >= 4:\n",
    "            similarUserList.append(movies_extra.loc[movieNames[movieID], 'title'])\n",
    "    if ratingsMatrx[testuser, movieID] >= 4:\n",
    "        testUserList.append(movies_extra.loc[movieNames[movieID], 'title'])"
   ]
  },
  {
   "cell_type": "code",
   "execution_count": 30,
   "id": "208af6d3-484f-4d87-8bd7-28b808e4cb4e",
   "metadata": {},
   "outputs": [
    {
     "name": "stdout",
     "output_type": "stream",
     "text": [
      "['Toy Story (1995)', 'Toy Story (1995)', 'Toy Story (1995)', 'Jumanji (1995)', 'Jumanji (1995)', 'Grumpier Old Men (1995)', 'Heat (1995)', 'Heat (1995)', 'GoldenEye (1995)', 'GoldenEye (1995)', 'Cutthroat Island (1995)', 'Ace Ventura: When Nature Calls (1995)', 'Babe (1995)', 'To Die For (1995)', 'Pocahontas (1995)', 'Usual Suspects, The (1995)', 'Bed of Roses (1996)', \"Things to Do in Denver When You're Dead (1995)\", 'Vampire in Brooklyn (1995)', 'Broken Arrow (1996)', 'Broken Arrow (1996)', 'Happy Gilmore (1996)', 'Braveheart (1995)', 'Braveheart (1995)', 'Taxi Driver (1976)', 'Rumble in the Bronx (Hont faan kui) (1995)', 'Boomerang (1992)', 'Birdcage, The (1996)', 'Bad Boys (1995)', 'Apollo 13 (1995)', 'Batman Forever (1995)', 'Congo (1995)', 'Crumb (1994)', 'Desperado (1995)', 'Die Hard: With a Vengeance (1995)', 'Die Hard: With a Vengeance (1995)', 'First Knight (1995)', 'Hackers (1995)', 'Johnny Mnemonic (1995)', 'Judge Dredd (1995)', 'Living in Oblivion (1995)', 'Net, The (1995)', 'Nine Months (1995)', 'Strange Days (1995)', 'Waterworld (1995)', 'Waterworld (1995)', 'Billy Madison (1995)', 'Clerks (1994)', 'Clerks (1994)', 'Clerks (1994)', 'Disclosure (1994)', 'Dumb & Dumber (Dumb and Dumber) (1994)', 'Dumb & Dumber (Dumb and Dumber) (1994)', 'I.Q. (1994)', 'Interview with the Vampire: The Vampire Chronicles (1994)', 'Star Wars: Episode IV - A New Hope (1977)', 'Star Wars: Episode IV - A New Hope (1977)', 'Like Water for Chocolate (Como agua para chocolate) (1992)', 'Legends of the Fall (1994)', \"Mary Shelley's Frankenstein (Frankenstein) (1994)\", 'Milk Money (1994)', 'Natural Born Killers (1994)', 'Léon: The Professional (a.k.a. The Professional) (Léon) (1994)', 'Pulp Fiction (1994)', 'Pulp Fiction (1994)', 'Pulp Fiction (1994)', 'Three Colors: Red (Trois couleurs: Rouge) (1994)', 'Three Colors: Blue (Trois couleurs: Bleu) (1993)', 'Stargate (1994)', 'Stargate (1994)', 'Stargate (1994)', 'Shawshank Redemption, The (1994)', 'Shawshank Redemption, The (1994)', 'Tank Girl (1995)', 'Tank Girl (1995)', 'Star Trek: Generations (1994)', 'Virtuosity (1995)', 'While You Were Sleeping (1995)', 'Ace Ventura: Pet Detective (1994)', 'Adventures of Priscilla, Queen of the Desert, The (1994)', 'Bullets Over Broadway (1994)', 'Crow, The (1994)', 'Crow, The (1994)', 'Crow, The (1994)', 'Forrest Gump (1994)', 'Forrest Gump (1994)', 'Forrest Gump (1994)', 'Four Weddings and a Funeral (1994)', 'It Could Happen to You (1994)', 'Jungle Book, The (1994)', 'Lion King, The (1994)', 'Mask, The (1994)', 'Naked Gun 33 1/3: The Final Insult (1994)', 'Speed (1994)', 'Speed (1994)', 'Timecop (1994)', 'True Lies (1994)', 'True Lies (1994)', 'Addams Family Values (1993)', 'Airheads (1994)', 'Coneheads (1993)', 'Dave (1993)', 'Dave (1993)', 'Dazed and Confused (1993)', 'Demolition Man (1993)', 'Demolition Man (1993)', 'Firm, The (1993)', 'Fugitive, The (1993)', 'Fugitive, The (1993)', 'Fugitive, The (1993)', 'Hot Shots! Part Deux (1993)', 'Hudsucker Proxy, The (1994)', 'Judgment Night (1993)', 'Jurassic Park (1993)', 'Jurassic Park (1993)', 'Last Action Hero (1993)', 'Manhattan Murder Mystery (1993)', 'Much Ado About Nothing (1993)', 'Much Ado About Nothing (1993)', 'Piano, The (1993)', 'Robin Hood: Men in Tights (1993)', \"Schindler's List (1993)\", 'Serial Mom (1994)', 'Shadow, The (1994)', 'Sleepless in Seattle (1993)', 'So I Married an Axe Murderer (1993)', 'Nightmare Before Christmas, The (1993)', 'Nightmare Before Christmas, The (1993)', 'Brady Bunch Movie, The (1995)', 'Home Alone (1990)', 'Ghost (1990)', 'Aladdin (1992)', 'Aladdin (1992)', 'Terminator 2: Judgment Day (1991)', 'Terminator 2: Judgment Day (1991)', 'Terminator 2: Judgment Day (1991)', 'Dances with Wolves (1990)', 'Batman (1989)', 'Snow White and the Seven Dwarfs (1937)', 'Beauty and the Beast (1991)', 'Pinocchio (1940)', 'Pretty Woman (1990)', 'Pretty Woman (1990)', 'Fargo (1996)', 'Heavy Metal (1981)', 'Aristocats, The (1970)', 'Mission: Impossible (1996)', 'Dragonheart (1996)', 'Underground (1995)', 'Truth About Cats & Dogs, The (1996)', 'Rock, The (1996)', 'Rock, The (1996)', 'Twister (1996)', 'Twister (1996)', 'Dr. Strangelove or: How I Learned to Stop Worrying and Love the Bomb (1964)', 'Dr. Strangelove or: How I Learned to Stop Worrying and Love the Bomb (1964)', 'Independence Day (a.k.a. ID4) (1996)', 'Independence Day (a.k.a. ID4) (1996)', 'Eraser (1996)', 'Daylight (1996)', 'Phenomenon (1996)', 'Time to Kill, A (1996)', \"Joe's Apartment (1996)\", 'Crow: City of Angels, The (1996)', 'Godfather, The (1972)', 'Godfather, The (1972)', \"Singin' in the Rain (1952)\", \"Breakfast at Tiffany's (1961)\", 'Vertigo (1958)', 'Rear Window (1954)', 'North by Northwest (1959)', 'North by Northwest (1959)', 'Apartment, The (1960)', 'Casablanca (1942)', 'Casablanca (1942)', 'Maltese Falcon, The (1941)', 'Gone with the Wind (1939)', 'Sunset Blvd. (a.k.a. Sunset Boulevard) (1950)', 'Citizen Kane (1941)', 'Citizen Kane (1941)', '2001: A Space Odyssey (1968)', 'Laura (1944)', 'African Queen, The (1951)', '20,000 Leagues Under the Sea (1954)', 'Cool Runnings (1993)', 'Die Hard (1988)', 'Lawnmower Man, The (1992)', 'That Thing You Do! (1996)', 'Sleeper (1973)', 'Fish Called Wanda, A (1988)', \"Monty Python's Life of Brian (1979)\", 'Dial M for Murder (1954)', 'Dirty Dancing (1987)', 'Reservoir Dogs (1992)', 'Platoon (1986)', 'Platoon (1986)', 'Crying Game, The (1992)', 'Crying Game, The (1992)', 'Glengarry Glen Ross (1992)', 'E.T. the Extra-Terrestrial (1982)', 'Days of Thunder (1990)', 'Monty Python and the Holy Grail (1975)', 'Monty Python and the Holy Grail (1975)', 'Wallace & Gromit: The Wrong Trousers (1993)', 'Wallace & Gromit: The Wrong Trousers (1993)', 'Delicatessen (1991)', 'Delicatessen (1991)', \"One Flew Over the Cuckoo's Nest (1975)\", \"One Flew Over the Cuckoo's Nest (1975)\", 'Star Wars: Episode V - The Empire Strikes Back (1980)', 'Star Wars: Episode V - The Empire Strikes Back (1980)', 'Brazil (1985)', '12 Angry Men (1957)', 'Lawrence of Arabia (1962)', 'Clockwork Orange, A (1971)', 'Apocalypse Now (1979)', 'Apocalypse Now (1979)', 'Star Wars: Episode VI - Return of the Jedi (1983)', 'Star Wars: Episode VI - Return of the Jedi (1983)', 'Star Wars: Episode VI - Return of the Jedi (1983)', 'Goodfellas (1990)', 'Alien (1979)', 'Army of Darkness (1993)', 'Ran (1985)', 'Godfather: Part II, The (1974)', 'Full Metal Jacket (1987)', 'Amadeus (1984)', 'Once Upon a Time in America (1984)', 'Annie Hall (1977)', 'Boot, Das (Boat, The) (1981)', 'Sting, The (1973)', 'Harold and Maude (1971)', 'Seventh Seal, The (Sjunde inseglet, Det) (1957)', 'Terminator, The (1984)', 'Glory (1989)', 'Rosencrantz and Guildenstern Are Dead (1990)', 'Manhattan (1979)', 'Touch of Evil (1958)', 'Femme Nikita, La (Nikita) (1990)', 'Bridge on the River Kwai, The (1957)', 'Chinatown (1974)', 'Day the Earth Stood Still, The (1951)', 'Treasure of the Sierra Madre, The (1948)', 'Duck Soup (1933)', 'M (1931)', 'Great Escape, The (1963)', 'Deer Hunter, The (1978)', 'Groundhog Day (1993)', 'Unforgiven (1992)', 'Manchurian Candidate, The (1962)', 'Arsenic and Old Lace (1944)', 'Back to the Future (1985)', 'Patton (1970)', 'Cool Hand Luke (1967)', 'Young Frankenstein (1974)', 'Young Frankenstein (1974)', 'Big Sleep, The (1946)', 'Killing Fields, The (1984)', 'Forbidden Planet (1956)', 'Butch Cassidy and the Sundance Kid (1969)', 'When Harry Met Sally... (1989)', 'Cape Fear (1962)', 'Star Trek: First Contact (1996)', 'Star Trek: First Contact (1996)', 'Die Hard 2 (1990)', 'Star Trek III: The Search for Spock (1984)', 'Star Trek IV: The Voyage Home (1986)', 'Young Guns II (1990)', 'Mars Attacks! (1996)', 'Raising Arizona (1987)', 'Beavis and Butt-Head Do America (1996)', 'Last of the Mohicans, The (1992)', 'First Strike (Police Story 4: First Strike) (Ging chaat goo si 4: Ji gaan daan yam mo) (1996)', \"Dante's Peak (1997)\", \"Vegas Vacation (National Lampoon's Las Vegas Vacation) (1997)\", 'Private Parts (1997)', \"Romy and Michele's High School Reunion (1997)\", 'Austin Powers: International Man of Mystery (1997)', 'Con Air (1997)', 'Face/Off (1997)', 'Men in Black (a.k.a. MIB) (1997)', 'Men in Black (a.k.a. MIB) (1997)', 'Air Force One (1997)', 'Hunt for Red October, The (1990)', 'L.A. Confidential (1997)', 'L.A. Confidential (1997)', 'Seven Years in Tibet (1997)', 'Full Monty, The (1997)', 'Gattaca (1997)', 'Stripes (1981)', 'Starship Troopers (1997)', 'Alien: Resurrection (1997)', 'Good Will Hunting (1997)', 'Tomorrow Never Dies (1997)', 'Big Lebowski, The (1998)', 'Wedding Singer, The (1998)', 'As Good as It Gets (1997)', 'As Good as It Gets (1997)', 'Bulworth (1998)', 'X-Files: Fight the Future, The (1998)', 'X-Files: Fight the Future, The (1998)', 'All Quiet on the Western Front (1930)', 'French Connection, The (1971)', 'Ordinary People (1980)', 'Last Emperor, The (1987)', 'Take the Money and Run (1969)', 'Repo Man (1984)', 'Breakfast Club, The (1985)', 'Soylent Green (1973)', 'Back to the Future Part III (1990)', 'Flight of the Navigator (1986)', 'Doctor Zhivago (1965)', 'Fanny and Alexander (Fanny och Alexander) (1982)', 'Lady and the Tramp (1955)', 'Mighty Ducks, The (1992)', 'Lord of the Rings, The (1978)', 'Addams Family, The (1991)', 'American Tail: Fievel Goes West, An (1991)', 'Gods Must Be Crazy, The (1980)', \"Rosemary's Baby (1968)\", 'NeverEnding Story, The (1984)', 'Rounders (1998)', 'Few Good Men, A (1992)', 'Life Is Beautiful (La Vita è bella) (1997)', 'American History X (1998)', 'Stepford Wives, The (1975)', 'Nights of Cabiria (Notti di Cabiria, Le) (1957)', 'Simple Plan, A (1998)', 'Star Trek: Insurrection (1998)', 'Romancing the Stone (1984)', 'Cocoon (1985)', 'Office Space (1999)', 'Westworld (1973)', 'Planet of the Apes (1968)', 'Beneath the Planet of the Apes (1970)', 'Tango (1998)', 'Star Wars: Episode I - The Phantom Menace (1999)', 'Saragossa Manuscript, The (Rekopis znaleziony w Saragossie) (1965)', 'Superman II (1980)', 'Rocky Horror Picture Show, The (1975)', 'War of the Worlds, The (1953)', 'Invasion of the Body Snatchers (1956)', 'Run Lola Run (Lola rennt) (1998)', 'Run Lola Run (Lola rennt) (1998)', 'Ghostbusters (a.k.a. Ghost Busters) (1984)', 'Spartacus (1960)', 'Heaven Can Wait (1978)', \"Monty Python's And Now for Something Completely Different (1971)\", 'Airplane! (1980)', 'Pelican Brief, The (1993)', 'Three Days of the Condor (3 Days of the Condor) (1975)', 'Black Cat, White Cat (Crna macka, beli macor) (1998)', 'American Beauty (1999)', 'American Beauty (1999)', \"Hard Day's Night, A (1964)\", 'Deliverance (1972)', 'Body Heat (1981)', \"Ferris Bueller's Day Off (1986)\", 'Niagara (1953)', 'Dirty Dozen, The (1967)', 'Fight Club (1999)', 'RoboCop (1987)', 'Princess Mononoke (Mononoke-hime) (1997)', 'Green Mile, The (1999)', 'Magnolia (1999)', 'Any Given Sunday (1999)', 'Scent of a Woman (1992)', 'Boondock Saints, The (2000)', 'Good Morning, Vietnam (1987)', 'Idiots, The (Idioterne) (1998)', 'X-Men (2000)', 'Requiem for a Dream (2000)', 'Requiem for a Dream (2000)', \"Charlie's Angels (2000)\", 'O Brother, Where Art Thou? (2000)', 'Traffic (2000)', 'In the Mood For Love (Fa yeung nin wa) (2000)', 'Hannibal (2001)', 'Memento (2000)', 'Scarface (1983)', 'Shrek (2001)', 'Moulin Rouge (2001)', 'Night, The (Notte, La) (1960)', 'Cries and Whispers (Viskningar och rop) (1972)', 'Chocolat (1988)', 'Donnie Darko (2001)', \"Amelie (Fabuleux destin d'Amélie Poulain, Le) (2001)\", \"Amelie (Fabuleux destin d'Amélie Poulain, Le) (2001)\", 'Not Another Teen Movie (2001)', 'Lord of the Rings: The Fellowship of the Ring, The (2001)', 'M*A*S*H (a.k.a. MASH) (1970)', 'The Count of Monte Cristo (2002)', 'Wild Strawberries (Smultronstället) (1957)', 'We Were Soldiers (2002)', 'Insomnia (2002)', 'Spirited Away (Sen to Chihiro no kamikakushi) (2001)', 'Strange Brew (1983)', 'Naqoyqatsi (2002)', 'Teddy Bear (Mis) (1981)', 'Talk to Her (Hable con Ella) (2002)', 'Hit the Bank (Vabank) (1981)', 'Lord of the Rings: The Two Towers, The (2002)', 'Lord of the Rings: The Two Towers, The (2002)', '25th Hour (2002)', 'Pianist, The (2002)', 'City of God (Cidade de Deus) (2002)', 'City of God (Cidade de Deus) (2002)', 'Laputa: Castle in the Sky (Tenkû no shiro Rapyuta) (1986)', \"Spanish Apartment, The (L'auberge espagnole) (2002)\", 'Finding Nemo (2003)', 'Italian Job, The (2003)', \"Charlie's Angels: Full Throttle (2003)\", 'Pirates of the Caribbean: The Curse of the Black Pearl (2003)', 'League of Extraordinary Gentlemen, The (a.k.a. LXG) (2003)', 'S.W.A.T. (2003)', 'Lost in Translation (2003)', 'Lost in Translation (2003)', 'Mystic River (2003)', '21 Grams (2003)', 'Barbarian Invasions, The (Les invasions barbares) (2003)', 'Big Fish (2003)', 'Lord of the Rings: The Return of the King, The (2003)', \"M. Hulot’s Holiday (Mr. Hulot's Holiday) (Vacances de Monsieur Hulot, Les) (1953)\", 'Strada, La (1954)', 'Passion of the Christ, The (2004)', 'Good bye, Lenin! (2003)', 'Persona (1966)', 'Eternal Sunshine of the Spotless Mind (2004)', 'Eternal Sunshine of the Spotless Mind (2004)', 'Noi the Albino (Nói albinói) (2003)', 'Man on Fire (2004)', 'Virgin Spring, The (Jungfrukällan) (1960)', 'Silence, The (Tystnaden) (1963)', 'Winter Light (Nattvardsgästerna) (1963)', 'Through a Glass Darkly (Såsom i en spegel) (1961)', 'The Magician (1958)', 'Spring, Summer, Fall, Winter... and Spring (Bom yeoreum gaeul gyeoul geurigo bom) (2003)', 'Dolce Vita, La (1960)', 'Dolls (2002)', 'Shrek 2 (2004)', 'Day After Tomorrow, The (2004)', 'Hour of the Wolf (Vargtimmen) (1968)', 'I, Robot (2004)', 'Swann in Love (Un amour de Swann) (1984)', 'Garden State (2004)', 'Port of Shadows (Quai des brumes) (1938)', 'Without a Paddle (2004)', 'Exorcist: The Beginning (2004)', 'Motorcycle Diaries, The (Diarios de motocicleta) (2004)', 'Sideways (2004)', 'Bad Education (La mala educación) (2004)', 'Taxi 2 (2000)', '2046 (2004)', 'Very Long Engagement, A (Un long dimanche de fiançailles) (2004)', '5x2 (2004)', 'Look at Me (Comme une image) (2004)']\n"
     ]
    }
   ],
   "source": [
    "print(similarUserList)"
   ]
  },
  {
   "cell_type": "code",
   "execution_count": null,
   "id": "1c16280a-c1a9-4cbb-bd3d-9c9760b7f118",
   "metadata": {},
   "outputs": [],
   "source": [
    "# for each user\n",
    "# history of videos watched with ratings\n",
    "# so look users in his similarty column orered by similarity.  any videos he hasnt watched that were rated highly? add them to a list.  \n",
    "# look up movie info based on ID, check if the groupings work. \n",
    "# pick a user, list randomly highly rated history, check which new movies would be recommended.  "
   ]
  },
  {
   "cell_type": "code",
   "execution_count": null,
   "id": "50efb409-5031-460b-805b-bbb10df29065",
   "metadata": {},
   "outputs": [],
   "source": [
    "np.save('/tmp/123', np.array([[1, 2, 3], [4, 5, 6]]))\n",
    "np.load('/tmp/123.npy')\n",
    "array([[1, 2, 3],\n",
    "       [4, 5, 6]])"
   ]
  }
 ],
 "metadata": {
  "kernelspec": {
   "display_name": "Python 3 (ipykernel)",
   "language": "python",
   "name": "python3"
  },
  "language_info": {
   "codemirror_mode": {
    "name": "ipython",
    "version": 3
   },
   "file_extension": ".py",
   "mimetype": "text/x-python",
   "name": "python",
   "nbconvert_exporter": "python",
   "pygments_lexer": "ipython3",
   "version": "3.13.2"
  }
 },
 "nbformat": 4,
 "nbformat_minor": 5
}
